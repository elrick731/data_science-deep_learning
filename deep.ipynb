{
  "nbformat": 4,
  "nbformat_minor": 0,
  "metadata": {
    "kernelspec": {
      "display_name": "Python 3",
      "language": "python",
      "name": "python3"
    },
    "language_info": {
      "codemirror_mode": {
        "name": "ipython",
        "version": 3
      },
      "file_extension": ".py",
      "mimetype": "text/x-python",
      "name": "python",
      "nbconvert_exporter": "python",
      "pygments_lexer": "ipython3",
      "version": "3.9.1"
    },
    "colab": {
      "name": "Orange_Taux_désabonnement  (1).ipynb",
      "provenance": []
    }
  },
  "cells": [
    {
      "cell_type": "code",
      "metadata": {
        "id": "PnybBbV2z-hu"
      },
      "source": [
        "############################################################################### DEEP LEARNING PREDICTION ######################################################################################\n",
        "from tensorflow.keras import Sequential\n",
        "from tensorflow.keras.layers import  Dense, LSTM\n",
        "from sklearn.pipeline import Pipeline\n",
        "from sklearn.model_selection import GridSearchCV\n",
        "from sklearn.preprocessing import StandardScaler\n",
        "import pandas as pd\n",
        " \n",
        "import numpy as np\n",
        "import seaborn as sb\n",
        "import matplotlib.pyplot as plt\n",
        "from sklearn.preprocessing import StandardScaler\n",
        "sc= StandardScaler()\n",
        "\n",
        "def normalisation(train,test):\n",
        "  train=sc.fit_transform(train)\n",
        "  test=sc.fit_transform(test)\n",
        "  return train,test\n"
      ],
      "execution_count": 14,
      "outputs": []
    },
    {
      "cell_type": "code",
      "metadata": {
        "id": "4MdoEN3jz-h2"
      },
      "source": [
        "train= pd.read_csv(r\"churn-bigml-80.csv\")\r\n",
        "test=train=pd.read_csv(\"churn-bigml-20.csv\")\r\n",
        " "
      ],
      "execution_count": 22,
      "outputs": []
    },
    {
      "cell_type": "code",
      "metadata": {
        "id": "WltOnf76z-h2",
        "colab": {
          "base_uri": "https://localhost:8080/",
          "height": 440
        },
        "outputId": "2a388e1b-0dd7-47b0-ad3a-693a08a9546b"
      },
      "source": [
        "data=train.copy()\r\n",
        "data"
      ],
      "execution_count": 23,
      "outputs": [
        {
          "output_type": "execute_result",
          "data": {
            "text/html": [
              "<div>\n",
              "<style scoped>\n",
              "    .dataframe tbody tr th:only-of-type {\n",
              "        vertical-align: middle;\n",
              "    }\n",
              "\n",
              "    .dataframe tbody tr th {\n",
              "        vertical-align: top;\n",
              "    }\n",
              "\n",
              "    .dataframe thead th {\n",
              "        text-align: right;\n",
              "    }\n",
              "</style>\n",
              "<table border=\"1\" class=\"dataframe\">\n",
              "  <thead>\n",
              "    <tr style=\"text-align: right;\">\n",
              "      <th></th>\n",
              "      <th>State</th>\n",
              "      <th>Account length</th>\n",
              "      <th>Area code</th>\n",
              "      <th>International plan</th>\n",
              "      <th>Voice mail plan</th>\n",
              "      <th>Number vmail messages</th>\n",
              "      <th>Total day minutes</th>\n",
              "      <th>Total day calls</th>\n",
              "      <th>Total day charge</th>\n",
              "      <th>Total eve minutes</th>\n",
              "      <th>Total eve calls</th>\n",
              "      <th>Total eve charge</th>\n",
              "      <th>Total night minutes</th>\n",
              "      <th>Total night calls</th>\n",
              "      <th>Total night charge</th>\n",
              "      <th>Total intl minutes</th>\n",
              "      <th>Total intl calls</th>\n",
              "      <th>Total intl charge</th>\n",
              "      <th>Customer service calls</th>\n",
              "      <th>Churn</th>\n",
              "    </tr>\n",
              "  </thead>\n",
              "  <tbody>\n",
              "    <tr>\n",
              "      <th>0</th>\n",
              "      <td>LA</td>\n",
              "      <td>117</td>\n",
              "      <td>408</td>\n",
              "      <td>No</td>\n",
              "      <td>No</td>\n",
              "      <td>0</td>\n",
              "      <td>184.5</td>\n",
              "      <td>97</td>\n",
              "      <td>31.37</td>\n",
              "      <td>351.6</td>\n",
              "      <td>80</td>\n",
              "      <td>29.89</td>\n",
              "      <td>215.8</td>\n",
              "      <td>90</td>\n",
              "      <td>9.71</td>\n",
              "      <td>8.7</td>\n",
              "      <td>4</td>\n",
              "      <td>2.35</td>\n",
              "      <td>1</td>\n",
              "      <td>False</td>\n",
              "    </tr>\n",
              "    <tr>\n",
              "      <th>1</th>\n",
              "      <td>IN</td>\n",
              "      <td>65</td>\n",
              "      <td>415</td>\n",
              "      <td>No</td>\n",
              "      <td>No</td>\n",
              "      <td>0</td>\n",
              "      <td>129.1</td>\n",
              "      <td>137</td>\n",
              "      <td>21.95</td>\n",
              "      <td>228.5</td>\n",
              "      <td>83</td>\n",
              "      <td>19.42</td>\n",
              "      <td>208.8</td>\n",
              "      <td>111</td>\n",
              "      <td>9.40</td>\n",
              "      <td>12.7</td>\n",
              "      <td>6</td>\n",
              "      <td>3.43</td>\n",
              "      <td>4</td>\n",
              "      <td>True</td>\n",
              "    </tr>\n",
              "    <tr>\n",
              "      <th>2</th>\n",
              "      <td>NY</td>\n",
              "      <td>161</td>\n",
              "      <td>415</td>\n",
              "      <td>No</td>\n",
              "      <td>No</td>\n",
              "      <td>0</td>\n",
              "      <td>332.9</td>\n",
              "      <td>67</td>\n",
              "      <td>56.59</td>\n",
              "      <td>317.8</td>\n",
              "      <td>97</td>\n",
              "      <td>27.01</td>\n",
              "      <td>160.6</td>\n",
              "      <td>128</td>\n",
              "      <td>7.23</td>\n",
              "      <td>5.4</td>\n",
              "      <td>9</td>\n",
              "      <td>1.46</td>\n",
              "      <td>4</td>\n",
              "      <td>True</td>\n",
              "    </tr>\n",
              "    <tr>\n",
              "      <th>3</th>\n",
              "      <td>SC</td>\n",
              "      <td>111</td>\n",
              "      <td>415</td>\n",
              "      <td>No</td>\n",
              "      <td>No</td>\n",
              "      <td>0</td>\n",
              "      <td>110.4</td>\n",
              "      <td>103</td>\n",
              "      <td>18.77</td>\n",
              "      <td>137.3</td>\n",
              "      <td>102</td>\n",
              "      <td>11.67</td>\n",
              "      <td>189.6</td>\n",
              "      <td>105</td>\n",
              "      <td>8.53</td>\n",
              "      <td>7.7</td>\n",
              "      <td>6</td>\n",
              "      <td>2.08</td>\n",
              "      <td>2</td>\n",
              "      <td>False</td>\n",
              "    </tr>\n",
              "    <tr>\n",
              "      <th>4</th>\n",
              "      <td>HI</td>\n",
              "      <td>49</td>\n",
              "      <td>510</td>\n",
              "      <td>No</td>\n",
              "      <td>No</td>\n",
              "      <td>0</td>\n",
              "      <td>119.3</td>\n",
              "      <td>117</td>\n",
              "      <td>20.28</td>\n",
              "      <td>215.1</td>\n",
              "      <td>109</td>\n",
              "      <td>18.28</td>\n",
              "      <td>178.7</td>\n",
              "      <td>90</td>\n",
              "      <td>8.04</td>\n",
              "      <td>11.1</td>\n",
              "      <td>1</td>\n",
              "      <td>3.00</td>\n",
              "      <td>1</td>\n",
              "      <td>False</td>\n",
              "    </tr>\n",
              "    <tr>\n",
              "      <th>...</th>\n",
              "      <td>...</td>\n",
              "      <td>...</td>\n",
              "      <td>...</td>\n",
              "      <td>...</td>\n",
              "      <td>...</td>\n",
              "      <td>...</td>\n",
              "      <td>...</td>\n",
              "      <td>...</td>\n",
              "      <td>...</td>\n",
              "      <td>...</td>\n",
              "      <td>...</td>\n",
              "      <td>...</td>\n",
              "      <td>...</td>\n",
              "      <td>...</td>\n",
              "      <td>...</td>\n",
              "      <td>...</td>\n",
              "      <td>...</td>\n",
              "      <td>...</td>\n",
              "      <td>...</td>\n",
              "      <td>...</td>\n",
              "    </tr>\n",
              "    <tr>\n",
              "      <th>662</th>\n",
              "      <td>WI</td>\n",
              "      <td>114</td>\n",
              "      <td>415</td>\n",
              "      <td>No</td>\n",
              "      <td>Yes</td>\n",
              "      <td>26</td>\n",
              "      <td>137.1</td>\n",
              "      <td>88</td>\n",
              "      <td>23.31</td>\n",
              "      <td>155.7</td>\n",
              "      <td>125</td>\n",
              "      <td>13.23</td>\n",
              "      <td>247.6</td>\n",
              "      <td>94</td>\n",
              "      <td>11.14</td>\n",
              "      <td>11.5</td>\n",
              "      <td>7</td>\n",
              "      <td>3.11</td>\n",
              "      <td>2</td>\n",
              "      <td>False</td>\n",
              "    </tr>\n",
              "    <tr>\n",
              "      <th>663</th>\n",
              "      <td>AL</td>\n",
              "      <td>106</td>\n",
              "      <td>408</td>\n",
              "      <td>No</td>\n",
              "      <td>Yes</td>\n",
              "      <td>29</td>\n",
              "      <td>83.6</td>\n",
              "      <td>131</td>\n",
              "      <td>14.21</td>\n",
              "      <td>203.9</td>\n",
              "      <td>131</td>\n",
              "      <td>17.33</td>\n",
              "      <td>229.5</td>\n",
              "      <td>73</td>\n",
              "      <td>10.33</td>\n",
              "      <td>8.1</td>\n",
              "      <td>3</td>\n",
              "      <td>2.19</td>\n",
              "      <td>1</td>\n",
              "      <td>False</td>\n",
              "    </tr>\n",
              "    <tr>\n",
              "      <th>664</th>\n",
              "      <td>VT</td>\n",
              "      <td>60</td>\n",
              "      <td>415</td>\n",
              "      <td>No</td>\n",
              "      <td>No</td>\n",
              "      <td>0</td>\n",
              "      <td>193.9</td>\n",
              "      <td>118</td>\n",
              "      <td>32.96</td>\n",
              "      <td>85.0</td>\n",
              "      <td>110</td>\n",
              "      <td>7.23</td>\n",
              "      <td>210.1</td>\n",
              "      <td>134</td>\n",
              "      <td>9.45</td>\n",
              "      <td>13.2</td>\n",
              "      <td>8</td>\n",
              "      <td>3.56</td>\n",
              "      <td>3</td>\n",
              "      <td>False</td>\n",
              "    </tr>\n",
              "    <tr>\n",
              "      <th>665</th>\n",
              "      <td>WV</td>\n",
              "      <td>159</td>\n",
              "      <td>415</td>\n",
              "      <td>No</td>\n",
              "      <td>No</td>\n",
              "      <td>0</td>\n",
              "      <td>169.8</td>\n",
              "      <td>114</td>\n",
              "      <td>28.87</td>\n",
              "      <td>197.7</td>\n",
              "      <td>105</td>\n",
              "      <td>16.80</td>\n",
              "      <td>193.7</td>\n",
              "      <td>82</td>\n",
              "      <td>8.72</td>\n",
              "      <td>11.6</td>\n",
              "      <td>4</td>\n",
              "      <td>3.13</td>\n",
              "      <td>1</td>\n",
              "      <td>False</td>\n",
              "    </tr>\n",
              "    <tr>\n",
              "      <th>666</th>\n",
              "      <td>CT</td>\n",
              "      <td>184</td>\n",
              "      <td>510</td>\n",
              "      <td>Yes</td>\n",
              "      <td>No</td>\n",
              "      <td>0</td>\n",
              "      <td>213.8</td>\n",
              "      <td>105</td>\n",
              "      <td>36.35</td>\n",
              "      <td>159.6</td>\n",
              "      <td>84</td>\n",
              "      <td>13.57</td>\n",
              "      <td>139.2</td>\n",
              "      <td>137</td>\n",
              "      <td>6.26</td>\n",
              "      <td>5.0</td>\n",
              "      <td>10</td>\n",
              "      <td>1.35</td>\n",
              "      <td>2</td>\n",
              "      <td>False</td>\n",
              "    </tr>\n",
              "  </tbody>\n",
              "</table>\n",
              "<p>667 rows × 20 columns</p>\n",
              "</div>"
            ],
            "text/plain": [
              "    State  Account length  ...  Customer service calls  Churn\n",
              "0      LA             117  ...                       1  False\n",
              "1      IN              65  ...                       4   True\n",
              "2      NY             161  ...                       4   True\n",
              "3      SC             111  ...                       2  False\n",
              "4      HI              49  ...                       1  False\n",
              "..    ...             ...  ...                     ...    ...\n",
              "662    WI             114  ...                       2  False\n",
              "663    AL             106  ...                       1  False\n",
              "664    VT              60  ...                       3  False\n",
              "665    WV             159  ...                       1  False\n",
              "666    CT             184  ...                       2  False\n",
              "\n",
              "[667 rows x 20 columns]"
            ]
          },
          "metadata": {
            "tags": []
          },
          "execution_count": 23
        }
      ]
    },
    {
      "cell_type": "code",
      "metadata": {
        "id": "As-YYy3jz-h3",
        "colab": {
          "base_uri": "https://localhost:8080/"
        },
        "outputId": "ed111421-e3b9-47ef-d000-da25d52311d6"
      },
      "source": [
        "data.shape\r\n",
        " "
      ],
      "execution_count": 18,
      "outputs": [
        {
          "output_type": "execute_result",
          "data": {
            "text/plain": [
              "(2666, 20)"
            ]
          },
          "metadata": {
            "tags": []
          },
          "execution_count": 18
        }
      ]
    },
    {
      "cell_type": "code",
      "metadata": {
        "id": "_7N7OWegz-h3"
      },
      "source": [
        "# Le target à prédire est: Churn\n",
        "\n"
      ],
      "execution_count": null,
      "outputs": []
    },
    {
      "cell_type": "code",
      "metadata": {
        "id": "1yyoNN_kz-h3",
        "outputId": "e88f3f37-922f-4759-e85c-50a5eac81419"
      },
      "source": [
        "# Dimensions du data_set\n",
        "data.shape"
      ],
      "execution_count": null,
      "outputs": [
        {
          "output_type": "execute_result",
          "data": {
            "text/plain": [
              "(2666, 20)"
            ]
          },
          "metadata": {
            "tags": []
          },
          "execution_count": 673
        }
      ]
    },
    {
      "cell_type": "code",
      "metadata": {
        "id": "ZaOIMqnUz-h4",
        "outputId": "cf124f45-cf75-4a15-82fe-4fd9d28e905e"
      },
      "source": [
        "#info gene\n",
        "data.info()\n"
      ],
      "execution_count": null,
      "outputs": [
        {
          "output_type": "stream",
          "text": [
            "<class 'pandas.core.frame.DataFrame'>\n",
            "RangeIndex: 2666 entries, 0 to 2665\n",
            "Data columns (total 20 columns):\n",
            " #   Column                  Non-Null Count  Dtype  \n",
            "---  ------                  --------------  -----  \n",
            " 0   State                   2666 non-null   object \n",
            " 1   Account length          2666 non-null   int64  \n",
            " 2   Area code               2666 non-null   int64  \n",
            " 3   International plan      2666 non-null   object \n",
            " 4   Voice mail plan         2666 non-null   object \n",
            " 5   Number vmail messages   2666 non-null   int64  \n",
            " 6   Total day minutes       2666 non-null   float64\n",
            " 7   Total day calls         2666 non-null   int64  \n",
            " 8   Total day charge        2666 non-null   float64\n",
            " 9   Total eve minutes       2666 non-null   float64\n",
            " 10  Total eve calls         2666 non-null   int64  \n",
            " 11  Total eve charge        2666 non-null   float64\n",
            " 12  Total night minutes     2666 non-null   float64\n",
            " 13  Total night calls       2666 non-null   int64  \n",
            " 14  Total night charge      2666 non-null   float64\n",
            " 15  Total intl minutes      2666 non-null   float64\n",
            " 16  Total intl calls        2666 non-null   int64  \n",
            " 17  Total intl charge       2666 non-null   float64\n",
            " 18  Customer service calls  2666 non-null   int64  \n",
            " 19  Churn                   2666 non-null   bool   \n",
            "dtypes: bool(1), float64(8), int64(8), object(3)\n",
            "memory usage: 398.5+ KB\n"
          ],
          "name": "stdout"
        }
      ]
    },
    {
      "cell_type": "code",
      "metadata": {
        "id": "7tAXKj4fz-h4",
        "outputId": "42580681-735a-460b-daf6-b94b0d4b8182"
      },
      "source": [
        "# Variables discretes et variables catégorielles \n",
        "data.dtypes.value_counts()\n",
        "# 8 eniers, 8 reels, 3 variables catégorielles, 1 variable Booleenne"
      ],
      "execution_count": null,
      "outputs": [
        {
          "output_type": "execute_result",
          "data": {
            "text/plain": [
              "int64      8\n",
              "float64    8\n",
              "object     3\n",
              "bool       1\n",
              "dtype: int64"
            ]
          },
          "metadata": {
            "tags": []
          },
          "execution_count": 86
        }
      ]
    },
    {
      "cell_type": "code",
      "metadata": {
        "id": "5CnSSL-Vz-h5",
        "outputId": "fdf282d5-9563-4d36-bb4c-dfac0406d142"
      },
      "source": [
        "#Statistiques générales\n",
        "data.describe()\n"
      ],
      "execution_count": null,
      "outputs": [
        {
          "output_type": "execute_result",
          "data": {
            "text/html": [
              "<div>\n",
              "<style scoped>\n",
              "    .dataframe tbody tr th:only-of-type {\n",
              "        vertical-align: middle;\n",
              "    }\n",
              "\n",
              "    .dataframe tbody tr th {\n",
              "        vertical-align: top;\n",
              "    }\n",
              "\n",
              "    .dataframe thead th {\n",
              "        text-align: right;\n",
              "    }\n",
              "</style>\n",
              "<table border=\"1\" class=\"dataframe\">\n",
              "  <thead>\n",
              "    <tr style=\"text-align: right;\">\n",
              "      <th></th>\n",
              "      <th>Account length</th>\n",
              "      <th>Area code</th>\n",
              "      <th>Number vmail messages</th>\n",
              "      <th>Total day minutes</th>\n",
              "      <th>Total day calls</th>\n",
              "      <th>Total day charge</th>\n",
              "      <th>Total eve minutes</th>\n",
              "      <th>Total eve calls</th>\n",
              "      <th>Total eve charge</th>\n",
              "      <th>Total night minutes</th>\n",
              "      <th>Total night calls</th>\n",
              "      <th>Total night charge</th>\n",
              "      <th>Total intl minutes</th>\n",
              "      <th>Total intl calls</th>\n",
              "      <th>Total intl charge</th>\n",
              "      <th>Customer service calls</th>\n",
              "    </tr>\n",
              "  </thead>\n",
              "  <tbody>\n",
              "    <tr>\n",
              "      <th>count</th>\n",
              "      <td>2666.000000</td>\n",
              "      <td>2666.000000</td>\n",
              "      <td>2666.000000</td>\n",
              "      <td>2666.00000</td>\n",
              "      <td>2666.000000</td>\n",
              "      <td>2666.000000</td>\n",
              "      <td>2666.000000</td>\n",
              "      <td>2666.000000</td>\n",
              "      <td>2666.000000</td>\n",
              "      <td>2666.000000</td>\n",
              "      <td>2666.000000</td>\n",
              "      <td>2666.000000</td>\n",
              "      <td>2666.000000</td>\n",
              "      <td>2666.000000</td>\n",
              "      <td>2666.000000</td>\n",
              "      <td>2666.000000</td>\n",
              "    </tr>\n",
              "    <tr>\n",
              "      <th>mean</th>\n",
              "      <td>100.620405</td>\n",
              "      <td>437.438860</td>\n",
              "      <td>8.021755</td>\n",
              "      <td>179.48162</td>\n",
              "      <td>100.310203</td>\n",
              "      <td>30.512404</td>\n",
              "      <td>200.386159</td>\n",
              "      <td>100.023631</td>\n",
              "      <td>17.033072</td>\n",
              "      <td>201.168942</td>\n",
              "      <td>100.106152</td>\n",
              "      <td>9.052689</td>\n",
              "      <td>10.237022</td>\n",
              "      <td>4.467367</td>\n",
              "      <td>2.764490</td>\n",
              "      <td>1.562641</td>\n",
              "    </tr>\n",
              "    <tr>\n",
              "      <th>std</th>\n",
              "      <td>39.563974</td>\n",
              "      <td>42.521018</td>\n",
              "      <td>13.612277</td>\n",
              "      <td>54.21035</td>\n",
              "      <td>19.988162</td>\n",
              "      <td>9.215733</td>\n",
              "      <td>50.951515</td>\n",
              "      <td>20.161445</td>\n",
              "      <td>4.330864</td>\n",
              "      <td>50.780323</td>\n",
              "      <td>19.418459</td>\n",
              "      <td>2.285120</td>\n",
              "      <td>2.788349</td>\n",
              "      <td>2.456195</td>\n",
              "      <td>0.752812</td>\n",
              "      <td>1.311236</td>\n",
              "    </tr>\n",
              "    <tr>\n",
              "      <th>min</th>\n",
              "      <td>1.000000</td>\n",
              "      <td>408.000000</td>\n",
              "      <td>0.000000</td>\n",
              "      <td>0.00000</td>\n",
              "      <td>0.000000</td>\n",
              "      <td>0.000000</td>\n",
              "      <td>0.000000</td>\n",
              "      <td>0.000000</td>\n",
              "      <td>0.000000</td>\n",
              "      <td>43.700000</td>\n",
              "      <td>33.000000</td>\n",
              "      <td>1.970000</td>\n",
              "      <td>0.000000</td>\n",
              "      <td>0.000000</td>\n",
              "      <td>0.000000</td>\n",
              "      <td>0.000000</td>\n",
              "    </tr>\n",
              "    <tr>\n",
              "      <th>25%</th>\n",
              "      <td>73.000000</td>\n",
              "      <td>408.000000</td>\n",
              "      <td>0.000000</td>\n",
              "      <td>143.40000</td>\n",
              "      <td>87.000000</td>\n",
              "      <td>24.380000</td>\n",
              "      <td>165.300000</td>\n",
              "      <td>87.000000</td>\n",
              "      <td>14.050000</td>\n",
              "      <td>166.925000</td>\n",
              "      <td>87.000000</td>\n",
              "      <td>7.512500</td>\n",
              "      <td>8.500000</td>\n",
              "      <td>3.000000</td>\n",
              "      <td>2.300000</td>\n",
              "      <td>1.000000</td>\n",
              "    </tr>\n",
              "    <tr>\n",
              "      <th>50%</th>\n",
              "      <td>100.000000</td>\n",
              "      <td>415.000000</td>\n",
              "      <td>0.000000</td>\n",
              "      <td>179.95000</td>\n",
              "      <td>101.000000</td>\n",
              "      <td>30.590000</td>\n",
              "      <td>200.900000</td>\n",
              "      <td>100.000000</td>\n",
              "      <td>17.080000</td>\n",
              "      <td>201.150000</td>\n",
              "      <td>100.000000</td>\n",
              "      <td>9.050000</td>\n",
              "      <td>10.200000</td>\n",
              "      <td>4.000000</td>\n",
              "      <td>2.750000</td>\n",
              "      <td>1.000000</td>\n",
              "    </tr>\n",
              "    <tr>\n",
              "      <th>75%</th>\n",
              "      <td>127.000000</td>\n",
              "      <td>510.000000</td>\n",
              "      <td>19.000000</td>\n",
              "      <td>215.90000</td>\n",
              "      <td>114.000000</td>\n",
              "      <td>36.700000</td>\n",
              "      <td>235.100000</td>\n",
              "      <td>114.000000</td>\n",
              "      <td>19.980000</td>\n",
              "      <td>236.475000</td>\n",
              "      <td>113.000000</td>\n",
              "      <td>10.640000</td>\n",
              "      <td>12.100000</td>\n",
              "      <td>6.000000</td>\n",
              "      <td>3.270000</td>\n",
              "      <td>2.000000</td>\n",
              "    </tr>\n",
              "    <tr>\n",
              "      <th>max</th>\n",
              "      <td>243.000000</td>\n",
              "      <td>510.000000</td>\n",
              "      <td>50.000000</td>\n",
              "      <td>350.80000</td>\n",
              "      <td>160.000000</td>\n",
              "      <td>59.640000</td>\n",
              "      <td>363.700000</td>\n",
              "      <td>170.000000</td>\n",
              "      <td>30.910000</td>\n",
              "      <td>395.000000</td>\n",
              "      <td>166.000000</td>\n",
              "      <td>17.770000</td>\n",
              "      <td>20.000000</td>\n",
              "      <td>20.000000</td>\n",
              "      <td>5.400000</td>\n",
              "      <td>9.000000</td>\n",
              "    </tr>\n",
              "  </tbody>\n",
              "</table>\n",
              "</div>"
            ],
            "text/plain": [
              "       Account length    Area code  Number vmail messages  Total day minutes  \\\n",
              "count     2666.000000  2666.000000            2666.000000         2666.00000   \n",
              "mean       100.620405   437.438860               8.021755          179.48162   \n",
              "std         39.563974    42.521018              13.612277           54.21035   \n",
              "min          1.000000   408.000000               0.000000            0.00000   \n",
              "25%         73.000000   408.000000               0.000000          143.40000   \n",
              "50%        100.000000   415.000000               0.000000          179.95000   \n",
              "75%        127.000000   510.000000              19.000000          215.90000   \n",
              "max        243.000000   510.000000              50.000000          350.80000   \n",
              "\n",
              "       Total day calls  Total day charge  Total eve minutes  Total eve calls  \\\n",
              "count      2666.000000       2666.000000        2666.000000      2666.000000   \n",
              "mean        100.310203         30.512404         200.386159       100.023631   \n",
              "std          19.988162          9.215733          50.951515        20.161445   \n",
              "min           0.000000          0.000000           0.000000         0.000000   \n",
              "25%          87.000000         24.380000         165.300000        87.000000   \n",
              "50%         101.000000         30.590000         200.900000       100.000000   \n",
              "75%         114.000000         36.700000         235.100000       114.000000   \n",
              "max         160.000000         59.640000         363.700000       170.000000   \n",
              "\n",
              "       Total eve charge  Total night minutes  Total night calls  \\\n",
              "count       2666.000000          2666.000000        2666.000000   \n",
              "mean          17.033072           201.168942         100.106152   \n",
              "std            4.330864            50.780323          19.418459   \n",
              "min            0.000000            43.700000          33.000000   \n",
              "25%           14.050000           166.925000          87.000000   \n",
              "50%           17.080000           201.150000         100.000000   \n",
              "75%           19.980000           236.475000         113.000000   \n",
              "max           30.910000           395.000000         166.000000   \n",
              "\n",
              "       Total night charge  Total intl minutes  Total intl calls  \\\n",
              "count         2666.000000         2666.000000       2666.000000   \n",
              "mean             9.052689           10.237022          4.467367   \n",
              "std              2.285120            2.788349          2.456195   \n",
              "min              1.970000            0.000000          0.000000   \n",
              "25%              7.512500            8.500000          3.000000   \n",
              "50%              9.050000           10.200000          4.000000   \n",
              "75%             10.640000           12.100000          6.000000   \n",
              "max             17.770000           20.000000         20.000000   \n",
              "\n",
              "       Total intl charge  Customer service calls  \n",
              "count        2666.000000             2666.000000  \n",
              "mean            2.764490                1.562641  \n",
              "std             0.752812                1.311236  \n",
              "min             0.000000                0.000000  \n",
              "25%             2.300000                1.000000  \n",
              "50%             2.750000                1.000000  \n",
              "75%             3.270000                2.000000  \n",
              "max             5.400000                9.000000  "
            ]
          },
          "metadata": {
            "tags": []
          },
          "execution_count": 87
        }
      ]
    },
    {
      "cell_type": "code",
      "metadata": {
        "id": "_5gi3kVBz-h5"
      },
      "source": [
        "# écart quadratique\n",
        "ecart_quadratique=data.var()"
      ],
      "execution_count": null,
      "outputs": []
    },
    {
      "cell_type": "code",
      "metadata": {
        "id": "voDFoe8Kz-h5",
        "outputId": "6f321af7-38ef-4179-8f0e-89ad462e87b5"
      },
      "source": [
        "ecart_quadratique"
      ],
      "execution_count": null,
      "outputs": [
        {
          "output_type": "execute_result",
          "data": {
            "text/plain": [
              "Account length            1565.308011\n",
              "Area code                 1808.036973\n",
              "Number vmail messages      185.294086\n",
              "Total day minutes         2938.762071\n",
              "Total day calls            399.526628\n",
              "Total day charge            84.929733\n",
              "Total eve minutes         2596.056893\n",
              "Total eve calls            406.483869\n",
              "Total eve charge            18.756385\n",
              "Total night minutes       2578.641241\n",
              "Total night calls          377.076533\n",
              "Total night charge           5.221771\n",
              "Total intl minutes           7.774888\n",
              "Total intl calls             6.032893\n",
              "Total intl charge            0.566726\n",
              "Customer service calls       1.719339\n",
              "Churn                        0.124402\n",
              "dtype: float64"
            ]
          },
          "metadata": {
            "tags": []
          },
          "execution_count": 89
        }
      ]
    },
    {
      "cell_type": "code",
      "metadata": {
        "id": "220TksLDz-h6"
      },
      "source": [
        "### Account length, Area code prsésentent une grande variance.De plus elles ne semnlent pas etre pertinente "
      ],
      "execution_count": null,
      "outputs": []
    },
    {
      "cell_type": "code",
      "metadata": {
        "id": "2ZvUPfctz-h6"
      },
      "source": [
        "#Etat des variables manquantes dans le dataset"
      ],
      "execution_count": null,
      "outputs": []
    },
    {
      "cell_type": "code",
      "metadata": {
        "id": "kUaJkt4Jz-h6",
        "outputId": "b492373e-70bb-4bc3-8547-4ba2e9ded6d7"
      },
      "source": [
        "sb.heatmap(data.isna())"
      ],
      "execution_count": null,
      "outputs": [
        {
          "output_type": "execute_result",
          "data": {
            "text/plain": [
              "<AxesSubplot:>"
            ]
          },
          "metadata": {
            "tags": []
          },
          "execution_count": 90
        },
        {
          "output_type": "display_data",
          "data": {
            "image/png": "[encoded data removed]",
            "text/plain": [
              "<Figure size 432x288 with 2 Axes>"
            ]
          },
          "metadata": {
            "tags": [],
            "needs_background": "light"
          }
        }
      ]
    },
    {
      "cell_type": "code",
      "metadata": {
        "id": "QcIImFj6z-h6",
        "colab": {
          "base_uri": "https://localhost:8080/",
          "height": 1000
        },
        "outputId": "1df1464a-85dd-4346-b976-f6b58b71c07c"
      },
      "source": [
        "# Notre dataset est ideal,il a deja été traité nous n'avons pas besoin de traiter les valeurs manquantes\n",
        "# visualisation des variables continues de type int\n",
        "for i in data.select_dtypes('int64'):\n",
        " plot.figure()\n",
        " sb.histplot(data[i])  \n",
        " plot.title(i)\n",
        "\n",
        "   \n"
      ],
      "execution_count": null,
      "outputs": [
        {
          "output_type": "display_data",
          "data": {
            "image/png": "[encoded data removed]",
            "text/plain": [
              "<Figure size 432x288 with 1 Axes>"
            ]
          },
          "metadata": {
            "tags": [],
            "needs_background": "light"
          }
        },
        {
          "output_type": "display_data",
          "data": {
            "image/png": "[encoded data removed]",
            "text/plain": [
              "<Figure size 432x288 with 1 Axes>"
            ]
          },
          "metadata": {
            "tags": [],
            "needs_background": "light"
          }
        },
        {
          "output_type": "display_data",
          "data": {
            "image/png": "[encoded data removed]",
            "text/plain": [
              "<Figure size 432x288 with 1 Axes>"
            ]
          },
          "metadata": {
            "tags": [],
            "needs_background": "light"
          }
        },
        {
          "output_type": "display_data",
          "data": {
            "image/png": "[encoded data removed]",
            "text/plain": [
              "<Figure size 432x288 with 1 Axes>"
            ]
          },
          "metadata": {
            "tags": [],
            "needs_background": "light"
          }
        },
        {
          "output_type": "display_data",
          "data": {
            "image/png": "[encoded data removed]",
            "text/plain": [
              "<Figure size 432x288 with 1 Axes>"
            ]
          },
          "metadata": {
            "tags": [],
            "needs_background": "light"
          }
        },
        {
          "output_type": "display_data",
          "data": {
            "image/png": "[encoded data removed]",
            "text/plain": [
              "<Figure size 432x288 with 1 Axes>"
            ]
          },
          "metadata": {
            "tags": [],
            "needs_background": "light"
          }
        },
        {
          "output_type": "display_data",
          "data": {
            "image/png": "[encoded data removed]",
            "text/plain": [
              "<Figure size 432x288 with 1 Axes>"
            ]
          },
          "metadata": {
            "tags": [],
            "needs_background": "light"
          }
        },
        {
          "output_type": "display_data",
          "data": {
            "image/png": "[encoded data removed]",
            "text/plain": [
              "<Figure size 432x288 with 1 Axes>"
            ]
          },
          "metadata": {
            "tags": [],
            "needs_background": "light"
          }
        }
      ]
    },
    {
      "cell_type": "code",
      "metadata": {
        "id": "op7px3xBz-h7",
        "colab": {
          "base_uri": "https://localhost:8080/",
          "height": 1000
        },
        "outputId": "144768b7-2ca9-473f-d4a0-37dd49584869"
      },
      "source": [
        " # visualisation des variables continues de type int\n",
        "for i in data.select_dtypes('float64'):\n",
        "  plot.figure()\n",
        "  sb.histplot(data[i])  \n",
        "  plot.title(i)\n",
        "\n",
        "   "
      ],
      "execution_count": null,
      "outputs": [
        {
          "output_type": "display_data",
          "data": {
            "image/png": "[encoded data removed]",
            "text/plain": [
              "<Figure size 432x288 with 1 Axes>"
            ]
          },
          "metadata": {
            "tags": [],
            "needs_background": "light"
          }
        },
        {
          "output_type": "display_data",
          "data": {
            "image/png": "[encoded data removed]",
            "text/plain": [
              "<Figure size 432x288 with 1 Axes>"
            ]
          },
          "metadata": {
            "tags": [],
            "needs_background": "light"
          }
        },
        {
          "output_type": "display_data",
          "data": {
            "image/png": "[encoded data removed]",
            "text/plain": [
              "<Figure size 432x288 with 1 Axes>"
            ]
          },
          "metadata": {
            "tags": [],
            "needs_background": "light"
          }
        },
        {
          "output_type": "display_data",
          "data": {
            "image/png": "[encoded data removed]",
            "text/plain": [
              "<Figure size 432x288 with 1 Axes>"
            ]
          },
          "metadata": {
            "tags": [],
            "needs_background": "light"
          }
        },
        {
          "output_type": "display_data",
          "data": {
            "image/png": "[encoded data removed]",
            "text/plain": [
              "<Figure size 432x288 with 1 Axes>"
            ]
          },
          "metadata": {
            "tags": [],
            "needs_background": "light"
          }
        },
        {
          "output_type": "display_data",
          "data": {
            "image/png": "[encoded data removed]",
            "text/plain": [
              "<Figure size 432x288 with 1 Axes>"
            ]
          },
          "metadata": {
            "tags": [],
            "needs_background": "light"
          }
        },
        {
          "output_type": "display_data",
          "data": {
            "image/png": "[encoded data removed]",
            "text/plain": [
              "<Figure size 432x288 with 1 Axes>"
            ]
          },
          "metadata": {
            "tags": [],
            "needs_background": "light"
          }
        },
        {
          "output_type": "display_data",
          "data": {
            "image/png": "[encoded data removed]",
            "text/plain": [
              "<Figure size 432x288 with 1 Axes>"
            ]
          },
          "metadata": {
            "tags": [],
            "needs_background": "light"
          }
        }
      ]
    },
    {
      "cell_type": "code",
      "metadata": {
        "id": "JGOGZ7TCz-h7",
        "colab": {
          "base_uri": "https://localhost:8080/",
          "height": 927
        },
        "outputId": "c9f9c3a8-daf2-44ec-ed11-93e3bf0500f3"
      },
      "source": [
        "# visualisation des variables catégorielles \n",
        "for i in data.select_dtypes('object'):\n",
        " plot.figure()\n",
        " sb.countplot(data[i])\n",
        " plot.xlabel(i) \n",
        "\n",
        "   \n"
      ],
      "execution_count": null,
      "outputs": [
        {
          "output_type": "stream",
          "text": [
            "/usr/local/lib/python3.6/dist-packages/seaborn/_decorators.py:43: FutureWarning: Pass the following variable as a keyword arg: x. From version 0.12, the only valid positional argument will be `data`, and passing other arguments without an explicit keyword will result in an error or misinterpretation.\n",
            "  FutureWarning\n",
            "/usr/local/lib/python3.6/dist-packages/seaborn/_decorators.py:43: FutureWarning: Pass the following variable as a keyword arg: x. From version 0.12, the only valid positional argument will be `data`, and passing other arguments without an explicit keyword will result in an error or misinterpretation.\n",
            "  FutureWarning\n",
            "/usr/local/lib/python3.6/dist-packages/seaborn/_decorators.py:43: FutureWarning: Pass the following variable as a keyword arg: x. From version 0.12, the only valid positional argument will be `data`, and passing other arguments without an explicit keyword will result in an error or misinterpretation.\n",
            "  FutureWarning\n"
          ],
          "name": "stderr"
        },
        {
          "output_type": "display_data",
          "data": {
            "image/png": "[encoded data removed]",
            "text/plain": [
              "<Figure size 432x288 with 1 Axes>"
            ]
          },
          "metadata": {
            "tags": [],
            "needs_background": "light"
          }
        },
        {
          "output_type": "display_data",
          "data": {
            "image/png": "[encoded data removed]",
            "text/plain": [
              "<Figure size 432x288 with 1 Axes>"
            ]
          },
          "metadata": {
            "tags": [],
            "needs_background": "light"
          }
        },
        {
          "output_type": "display_data",
          "data": {
            "image/png": "[encoded data removed]",
            "text/plain": [
              "<Figure size 432x288 with 1 Axes>"
            ]
          },
          "metadata": {
            "tags": [],
            "needs_background": "light"
          }
        }
      ]
    },
    {
      "cell_type": "code",
      "metadata": {
        "id": "wfXWgQ3Ez-h7",
        "colab": {
          "base_uri": "https://localhost:8080/"
        },
        "outputId": "d3e9f8bf-4471-4e61-f407-719b6e923c6c"
      },
      "source": [
        " data[\"Churn\"].value_counts()\n",
        " #hypothèse 2:14% résilie l'@ et 86% non.Donc les gens ont tendances à garder leur abonnement"
      ],
      "execution_count": null,
      "outputs": [
        {
          "output_type": "execute_result",
          "data": {
            "text/plain": [
              "False    2278\n",
              "True      388\n",
              "Name: Churn, dtype: int64"
            ]
          },
          "metadata": {
            "tags": []
          },
          "execution_count": 111
        }
      ]
    },
    {
      "cell_type": "code",
      "metadata": {
        "scrolled": true,
        "id": "jtZ8HTv2z-h8"
      },
      "source": [
        " \n",
        "##"
      ],
      "execution_count": null,
      "outputs": []
    },
    {
      "cell_type": "code",
      "metadata": {
        "id": "jIM1ow8Mz-h8",
        "colab": {
          "base_uri": "https://localhost:8080/",
          "height": 137
        },
        "outputId": "20057f4b-369f-41b6-f080-933f0d3591f4"
      },
      "source": [
        "#\n",
        "pd.crosstab(data[\"Churn\"],data[\"Customer service calls\"]) \n"
      ],
      "execution_count": null,
      "outputs": [
        {
          "output_type": "execute_result",
          "data": {
            "text/html": [
              "<div>\n",
              "<style scoped>\n",
              "    .dataframe tbody tr th:only-of-type {\n",
              "        vertical-align: middle;\n",
              "    }\n",
              "\n",
              "    .dataframe tbody tr th {\n",
              "        vertical-align: top;\n",
              "    }\n",
              "\n",
              "    .dataframe thead th {\n",
              "        text-align: right;\n",
              "    }\n",
              "</style>\n",
              "<table border=\"1\" class=\"dataframe\">\n",
              "  <thead>\n",
              "    <tr style=\"text-align: right;\">\n",
              "      <th>Customer service calls</th>\n",
              "      <th>0</th>\n",
              "      <th>1</th>\n",
              "      <th>2</th>\n",
              "      <th>3</th>\n",
              "      <th>4</th>\n",
              "      <th>5</th>\n",
              "      <th>6</th>\n",
              "      <th>7</th>\n",
              "      <th>8</th>\n",
              "      <th>9</th>\n",
              "    </tr>\n",
              "    <tr>\n",
              "      <th>Churn</th>\n",
              "      <th></th>\n",
              "      <th></th>\n",
              "      <th></th>\n",
              "      <th></th>\n",
              "      <th></th>\n",
              "      <th></th>\n",
              "      <th></th>\n",
              "      <th></th>\n",
              "      <th></th>\n",
              "      <th></th>\n",
              "    </tr>\n",
              "  </thead>\n",
              "  <tbody>\n",
              "    <tr>\n",
              "      <th>False</th>\n",
              "      <td>476</td>\n",
              "      <td>846</td>\n",
              "      <td>546</td>\n",
              "      <td>311</td>\n",
              "      <td>69</td>\n",
              "      <td>20</td>\n",
              "      <td>7</td>\n",
              "      <td>3</td>\n",
              "      <td>0</td>\n",
              "      <td>0</td>\n",
              "    </tr>\n",
              "    <tr>\n",
              "      <th>True</th>\n",
              "      <td>79</td>\n",
              "      <td>99</td>\n",
              "      <td>62</td>\n",
              "      <td>37</td>\n",
              "      <td>64</td>\n",
              "      <td>29</td>\n",
              "      <td>10</td>\n",
              "      <td>5</td>\n",
              "      <td>1</td>\n",
              "      <td>2</td>\n",
              "    </tr>\n",
              "  </tbody>\n",
              "</table>\n",
              "</div>"
            ],
            "text/plain": [
              "Customer service calls    0    1    2    3   4   5   6  7  8  9\n",
              "Churn                                                          \n",
              "False                   476  846  546  311  69  20   7  3  0  0\n",
              "True                     79   99   62   37  64  29  10  5  1  2"
            ]
          },
          "metadata": {
            "tags": []
          },
          "execution_count": 128
        }
      ]
    },
    {
      "cell_type": "code",
      "metadata": {
        "id": "P_WvOdiXz-h9",
        "colab": {
          "base_uri": "https://localhost:8080/",
          "height": 386
        },
        "outputId": "d998c8e1-7d65-4a01-c695-d8d34e050826"
      },
      "source": [
        "#Hypothèse3: Parmi ceux qui ne relisient pas leurs contrats on ne trouve aucun qui ai contacté au moins une fois le service client\n",
        "sb.displot(pd.crosstab(data[\"Churn\"],data[\"Customer service calls\"]) )\n",
        "    "
      ],
      "execution_count": null,
      "outputs": [
        {
          "output_type": "execute_result",
          "data": {
            "text/plain": [
              "<seaborn.axisgrid.FacetGrid at 0x7f2ecc994cf8>"
            ]
          },
          "metadata": {
            "tags": []
          },
          "execution_count": 110
        },
        {
          "output_type": "display_data",
          "data": {
            "image/png": "[encoded data removed]",
            "text/plain": [
              "<Figure size 481x360 with 1 Axes>"
            ]
          },
          "metadata": {
            "tags": [],
            "needs_background": "light"
          }
        }
      ]
    },
    {
      "cell_type": "code",
      "metadata": {
        "id": "SVb015DRz-h9",
        "colab": {
          "base_uri": "https://localhost:8080/"
        },
        "outputId": "314065a5-9201-4997-efb5-9e3467765376"
      },
      "source": [
        "# On a max(appel/jr)=108 appels/jours------>environ 225 personnes \n",
        "#on a min(appel/jour)=40 appels/jour-------->environ  4 personnes #6 personnes qui ne passent pas d'appel \n",
        "#6 personnes qui ne passent pas d'appel \n",
        "#On remarque egalement que la distribution de cette variable suit une distribution normale,il existe une fonction analytique\n",
        " \n",
        "data[\"Total day calls\"].var()\n",
        "#sb.distplot(data[\"Total day minutes\"])"
      ],
      "execution_count": null,
      "outputs": [
        {
          "output_type": "execute_result",
          "data": {
            "text/plain": [
              "399.52662757621965"
            ]
          },
          "metadata": {
            "tags": []
          },
          "execution_count": 129
        }
      ]
    },
    {
      "cell_type": "code",
      "metadata": {
        "id": "IGiV5_07z-h9",
        "colab": {
          "base_uri": "https://localhost:8080/",
          "height": 137
        },
        "outputId": "013c895f-4621-4353-d343-f6216672787c"
      },
      "source": [
        "pd.crosstab(data[\"Total day calls\"]>40,data[\"Churn\"])\n",
        " "
      ],
      "execution_count": null,
      "outputs": [
        {
          "output_type": "execute_result",
          "data": {
            "text/html": [
              "<div>\n",
              "<style scoped>\n",
              "    .dataframe tbody tr th:only-of-type {\n",
              "        vertical-align: middle;\n",
              "    }\n",
              "\n",
              "    .dataframe tbody tr th {\n",
              "        vertical-align: top;\n",
              "    }\n",
              "\n",
              "    .dataframe thead th {\n",
              "        text-align: right;\n",
              "    }\n",
              "</style>\n",
              "<table border=\"1\" class=\"dataframe\">\n",
              "  <thead>\n",
              "    <tr style=\"text-align: right;\">\n",
              "      <th>Churn</th>\n",
              "      <th>False</th>\n",
              "      <th>True</th>\n",
              "    </tr>\n",
              "    <tr>\n",
              "      <th>Total day calls</th>\n",
              "      <th></th>\n",
              "      <th></th>\n",
              "    </tr>\n",
              "  </thead>\n",
              "  <tbody>\n",
              "    <tr>\n",
              "      <th>False</th>\n",
              "      <td>3</td>\n",
              "      <td>1</td>\n",
              "    </tr>\n",
              "    <tr>\n",
              "      <th>True</th>\n",
              "      <td>2275</td>\n",
              "      <td>387</td>\n",
              "    </tr>\n",
              "  </tbody>\n",
              "</table>\n",
              "</div>"
            ],
            "text/plain": [
              "Churn            False  True \n",
              "Total day calls              \n",
              "False                3      1\n",
              "True              2275    387"
            ]
          },
          "metadata": {
            "tags": []
          },
          "execution_count": 130
        }
      ]
    },
    {
      "cell_type": "code",
      "metadata": {
        "id": "WTyIBHlLz-h9",
        "outputId": "ff8b805c-c3b8-49d7-dfea-e81a21fbd0b6"
      },
      "source": [
        "sb.displot(pd.crosstab(data[\"Total day calls\"]>40,data[\"Churn\"]))"
      ],
      "execution_count": null,
      "outputs": [
        {
          "output_type": "execute_result",
          "data": {
            "text/plain": [
              "<seaborn.axisgrid.FacetGrid at 0x205a39517f0>"
            ]
          },
          "metadata": {
            "tags": []
          },
          "execution_count": 644
        },
        {
          "output_type": "display_data",
          "data": {
            "image/png": "[encoded data removed]",
            "text/plain": [
              "<Figure size 421.25x360 with 1 Axes>"
            ]
          },
          "metadata": {
            "tags": [],
            "needs_background": "light"
          }
        }
      ]
    },
    {
      "cell_type": "code",
      "metadata": {
        "id": "sLUSwvZqz-h-"
      },
      "source": [
        "#Hypothèse4: les abonnés ayant plus de 4 appels/jour ne resilient pas leur abonnement\n",
        "# Statistiquement nous avons 85% qui ne resilient pas et 20% qui le resilient\n",
        "#C'est assez logique vu qu'il serait un peu inconsidéré de suspendre un service que l'on utilise quotidiennement "
      ],
      "execution_count": null,
      "outputs": []
    },
    {
      "cell_type": "code",
      "metadata": {
        "id": "_r2CWsfaz-h-"
      },
      "source": [
        " \n"
      ],
      "execution_count": null,
      "outputs": []
    },
    {
      "cell_type": "code",
      "metadata": {
        "id": "ocdlcmbez-h-",
        "outputId": "05c5034e-661d-40ce-8031-635e66e5591c"
      },
      "source": [
        "data[\"Total intl calls\"].mean()"
      ],
      "execution_count": null,
      "outputs": [
        {
          "output_type": "execute_result",
          "data": {
            "text/plain": [
              "4.467366841710428"
            ]
          },
          "metadata": {
            "tags": []
          },
          "execution_count": 646
        }
      ]
    },
    {
      "cell_type": "code",
      "metadata": {
        "id": "jR88kSr-z-h_"
      },
      "source": [
        "# on a en moyenne 5 appel international/jour /client"
      ],
      "execution_count": null,
      "outputs": []
    },
    {
      "cell_type": "code",
      "metadata": {
        "id": "nQvWUg2fz-h_",
        "outputId": "08e61886-98d4-4cd5-9b45-d1b6a67225cb"
      },
      "source": [
        "#A partir de là, on peut essayer de voir comment reagissent les clients qui resilient leur abonnment\n",
        "# En considérant le nombre moyen d'appel international /jour/client\n",
        "pd.crosstab(data[\"Total intl calls\"]>4.47,data[\"Churn\"])"
      ],
      "execution_count": null,
      "outputs": [
        {
          "output_type": "execute_result",
          "data": {
            "text/html": [
              "<div>\n",
              "<style scoped>\n",
              "    .dataframe tbody tr th:only-of-type {\n",
              "        vertical-align: middle;\n",
              "    }\n",
              "\n",
              "    .dataframe tbody tr th {\n",
              "        vertical-align: top;\n",
              "    }\n",
              "\n",
              "    .dataframe thead th {\n",
              "        text-align: right;\n",
              "    }\n",
              "</style>\n",
              "<table border=\"1\" class=\"dataframe\">\n",
              "  <thead>\n",
              "    <tr style=\"text-align: right;\">\n",
              "      <th>Churn</th>\n",
              "      <th>False</th>\n",
              "      <th>True</th>\n",
              "    </tr>\n",
              "    <tr>\n",
              "      <th>Total intl calls</th>\n",
              "      <th></th>\n",
              "      <th></th>\n",
              "    </tr>\n",
              "  </thead>\n",
              "  <tbody>\n",
              "    <tr>\n",
              "      <th>False</th>\n",
              "      <td>1314</td>\n",
              "      <td>261</td>\n",
              "    </tr>\n",
              "    <tr>\n",
              "      <th>True</th>\n",
              "      <td>964</td>\n",
              "      <td>127</td>\n",
              "    </tr>\n",
              "  </tbody>\n",
              "</table>\n",
              "</div>"
            ],
            "text/plain": [
              "Churn             False  True \n",
              "Total intl calls              \n",
              "False              1314    261\n",
              "True                964    127"
            ]
          },
          "metadata": {
            "tags": []
          },
          "execution_count": 648
        }
      ]
    },
    {
      "cell_type": "code",
      "metadata": {
        "id": "wXtwk0Ovz-h_",
        "outputId": "2b0c637d-62e4-424b-b8b9-ef49def3f1bf"
      },
      "source": [
        "pd.crosstab(data[\"Total intl calls\"]>4.47,data[\"Churn\"]).plot()"
      ],
      "execution_count": null,
      "outputs": [
        {
          "output_type": "execute_result",
          "data": {
            "text/plain": [
              "<AxesSubplot:xlabel='Total intl calls'>"
            ]
          },
          "metadata": {
            "tags": []
          },
          "execution_count": 394
        },
        {
          "output_type": "display_data",
          "data": {
            "image/png": "[encoded data removed]",
            "text/plain": [
              "<Figure size 432x288 with 1 Axes>"
            ]
          },
          "metadata": {
            "tags": [],
            "needs_background": "light"
          }
        }
      ]
    },
    {
      "cell_type": "code",
      "metadata": {
        "id": "-BR4SFz3z-h_",
        "outputId": "eafd4f16-204c-4181-ea0a-22b039bc74ed"
      },
      "source": [
        "#Hypothèse5: Parmi Ceux qui ont nbr_apl_international>m=4.47  on a environ  1/9 des personnes qui ne résilient pas\n",
        "#leur abonnement\n",
        "#Ca apparait comme on peu plus logique vu que si la personne communique  beaucoup  avec l'international cest qu'elle\n",
        "#son abonnement lui est très utile donc pourquoi le resilierait elle?\n",
        "#Visalisation de la matrice de correlation \n",
        "sb.heatmap(data.corr())\n",
        "#Les corellations sont:\n",
        "#(Total day charge-Total day minutes),(Total eve charge-Total eve minute),(Total night charge-Total night minute)\n",
        "#(Total intl charge-Total intl minute)"
      ],
      "execution_count": null,
      "outputs": [
        {
          "output_type": "execute_result",
          "data": {
            "text/plain": [
              "<AxesSubplot:>"
            ]
          },
          "metadata": {
            "tags": []
          },
          "execution_count": 395
        },
        {
          "output_type": "display_data",
          "data": {
            "image/png": "[encoded data removed]",
            "text/plain": [
              "<Figure size 432x288 with 2 Axes>"
            ]
          },
          "metadata": {
            "tags": [],
            "needs_background": "light"
          }
        }
      ]
    },
    {
      "cell_type": "code",
      "metadata": {
        "id": "U8GGPPAUz-iA"
      },
      "source": [
        " "
      ],
      "execution_count": null,
      "outputs": []
    },
    {
      "cell_type": "code",
      "metadata": {
        "id": "WTgHcWgkz-iA"
      },
      "source": [
        " "
      ],
      "execution_count": null,
      "outputs": []
    },
    {
      "cell_type": "code",
      "metadata": {
        "id": "ZTH_e5D9z-iA"
      },
      "source": [
        " ########################################################################## DL PREDICTION ######################################################################\"\"\"\""
      ],
      "execution_count": null,
      "outputs": []
    },
    {
      "cell_type": "code",
      "metadata": {
        "id": "DsTgHH52z-iB"
      },
      "source": [
        "modele= Sequential()\n",
        "modele.add(Dense(units=8,activation='relu',input_shape=(19,),kernel_initializer='uniform'))\n",
        "modele.add(Dense(units=8,activation='relu',kernel_initializer='uniform'))\n",
        "modele.add(Dense(units=8,activation='relu',kernel_initializer='uniform'))\n",
        "modele.add(Dense(units=1,activation='sigmoid'))\n",
        "modele.compile(optimizer=\"adam\",loss='binary_crossentropy',metrics=['accuracy'])\n",
        "train.dtypes.value_counts()\n",
        "train.select_dtypes('object')\n",
        "for i in train.select_dtypes('object'):\n",
        "  train[i]=len(train[i])\n",
        " "
      ],
      "execution_count": null,
      "outputs": []
    },
    {
      "cell_type": "code",
      "metadata": {
        "id": "0NRwqE70z-iB"
      },
      "source": [
        " \n",
        "xtrain=train.drop(\"Churn\",axis=1)\n",
        "xtest=test.drop(\"Churn\",axis=1)\n",
        "ytrain=train[\"Churn\"]\n",
        "ytest=test[\"Churn\"]"
      ],
      "execution_count": null,
      "outputs": []
    },
    {
      "cell_type": "code",
      "metadata": {
        "id": "fwgWPB8Wz-iC",
        "colab": {
          "base_uri": "https://localhost:8080/"
        },
        "outputId": "4f979ca4-07b2-45f0-a300-ff6f9786ef39"
      },
      "source": [
        "\n",
        "xtrain,xtest= normalisation(xtrain,xtest)\n",
        "xtrain.shape\n"
      ],
      "execution_count": null,
      "outputs": [
        {
          "output_type": "execute_result",
          "data": {
            "text/plain": [
              "(667, 19)"
            ]
          },
          "metadata": {
            "tags": []
          },
          "execution_count": 140
        }
      ]
    },
    {
      "cell_type": "code",
      "metadata": {
        "id": "XJhGJplWz-iD",
        "colab": {
          "base_uri": "https://localhost:8080/"
        },
        "outputId": "ac177d43-b7b2-4385-9676-27ec8c57028b"
      },
      "source": [
        "modele.summary()"
      ],
      "execution_count": null,
      "outputs": [
        {
          "output_type": "stream",
          "text": [
            "Model: \"sequential_2\"\n",
            "_________________________________________________________________\n",
            "Layer (type)                 Output Shape              Param #   \n",
            "=================================================================\n",
            "dense_4 (Dense)              (None, 8)                 160       \n",
            "_________________________________________________________________\n",
            "dense_5 (Dense)              (None, 8)                 72        \n",
            "_________________________________________________________________\n",
            "dense_6 (Dense)              (None, 8)                 72        \n",
            "_________________________________________________________________\n",
            "dense_7 (Dense)              (None, 1)                 9         \n",
            "=================================================================\n",
            "Total params: 313\n",
            "Trainable params: 313\n",
            "Non-trainable params: 0\n",
            "_________________________________________________________________\n"
          ],
          "name": "stdout"
        }
      ]
    },
    {
      "cell_type": "code",
      "metadata": {
        "id": "iJVjRw5Fz-iD",
        "colab": {
          "base_uri": "https://localhost:8080/"
        },
        "outputId": "be7cebfa-695e-46c4-c1b5-8b4ce858949a"
      },
      "source": [
        " modele.fit(xtrain,ytrain,epochs=100)\n"
      ],
      "execution_count": null,
      "outputs": [
        {
          "output_type": "stream",
          "text": [
            "Epoch 1/100\n",
            "21/21 [==============================] - 0s 1ms/step - loss: 0.2130 - accuracy: 0.9220\n",
            "Epoch 2/100\n",
            "21/21 [==============================] - 0s 1ms/step - loss: 0.2136 - accuracy: 0.9175\n",
            "Epoch 3/100\n",
            "21/21 [==============================] - 0s 1ms/step - loss: 0.2132 - accuracy: 0.9235\n",
            "Epoch 4/100\n",
            "21/21 [==============================] - 0s 1ms/step - loss: 0.2139 - accuracy: 0.9175\n",
            "Epoch 5/100\n",
            "21/21 [==============================] - 0s 1ms/step - loss: 0.2139 - accuracy: 0.9070\n",
            "Epoch 6/100\n",
            "21/21 [==============================] - 0s 1ms/step - loss: 0.2149 - accuracy: 0.9130\n",
            "Epoch 7/100\n",
            "21/21 [==============================] - 0s 1ms/step - loss: 0.2147 - accuracy: 0.9190\n",
            "Epoch 8/100\n",
            "21/21 [==============================] - 0s 1ms/step - loss: 0.2112 - accuracy: 0.9205\n",
            "Epoch 9/100\n",
            "21/21 [==============================] - 0s 1ms/step - loss: 0.2117 - accuracy: 0.9190\n",
            "Epoch 10/100\n",
            "21/21 [==============================] - 0s 1ms/step - loss: 0.2123 - accuracy: 0.9190\n",
            "Epoch 11/100\n",
            "21/21 [==============================] - 0s 1ms/step - loss: 0.2136 - accuracy: 0.9205\n",
            "Epoch 12/100\n",
            "21/21 [==============================] - 0s 1ms/step - loss: 0.2141 - accuracy: 0.9085\n",
            "Epoch 13/100\n",
            "21/21 [==============================] - 0s 1ms/step - loss: 0.2130 - accuracy: 0.9130\n",
            "Epoch 14/100\n",
            "21/21 [==============================] - 0s 2ms/step - loss: 0.2120 - accuracy: 0.9175\n",
            "Epoch 15/100\n",
            "21/21 [==============================] - 0s 1ms/step - loss: 0.2129 - accuracy: 0.9130\n",
            "Epoch 16/100\n",
            "21/21 [==============================] - 0s 1ms/step - loss: 0.2106 - accuracy: 0.9235\n",
            "Epoch 17/100\n",
            "21/21 [==============================] - 0s 1ms/step - loss: 0.2115 - accuracy: 0.9190\n",
            "Epoch 18/100\n",
            "21/21 [==============================] - 0s 1ms/step - loss: 0.2118 - accuracy: 0.9205\n",
            "Epoch 19/100\n",
            "21/21 [==============================] - 0s 1ms/step - loss: 0.2115 - accuracy: 0.9145\n",
            "Epoch 20/100\n",
            "21/21 [==============================] - 0s 1ms/step - loss: 0.2121 - accuracy: 0.9220\n",
            "Epoch 21/100\n",
            "21/21 [==============================] - 0s 2ms/step - loss: 0.2110 - accuracy: 0.9220\n",
            "Epoch 22/100\n",
            "21/21 [==============================] - 0s 1ms/step - loss: 0.2129 - accuracy: 0.9100\n",
            "Epoch 23/100\n",
            "21/21 [==============================] - 0s 1ms/step - loss: 0.2116 - accuracy: 0.9130\n",
            "Epoch 24/100\n",
            "21/21 [==============================] - 0s 1ms/step - loss: 0.2106 - accuracy: 0.9220\n",
            "Epoch 25/100\n",
            "21/21 [==============================] - 0s 1ms/step - loss: 0.2095 - accuracy: 0.9190\n",
            "Epoch 26/100\n",
            "21/21 [==============================] - 0s 1ms/step - loss: 0.2124 - accuracy: 0.9190\n",
            "Epoch 27/100\n",
            "21/21 [==============================] - 0s 1ms/step - loss: 0.2121 - accuracy: 0.9100\n",
            "Epoch 28/100\n",
            "21/21 [==============================] - 0s 1ms/step - loss: 0.2133 - accuracy: 0.9205\n",
            "Epoch 29/100\n",
            "21/21 [==============================] - 0s 1ms/step - loss: 0.2108 - accuracy: 0.9175\n",
            "Epoch 30/100\n",
            "21/21 [==============================] - 0s 2ms/step - loss: 0.2102 - accuracy: 0.9235\n",
            "Epoch 31/100\n",
            "21/21 [==============================] - 0s 2ms/step - loss: 0.2097 - accuracy: 0.9205\n",
            "Epoch 32/100\n",
            "21/21 [==============================] - 0s 1ms/step - loss: 0.2106 - accuracy: 0.9175\n",
            "Epoch 33/100\n",
            "21/21 [==============================] - 0s 1ms/step - loss: 0.2126 - accuracy: 0.9205\n",
            "Epoch 34/100\n",
            "21/21 [==============================] - 0s 1ms/step - loss: 0.2111 - accuracy: 0.9145\n",
            "Epoch 35/100\n",
            "21/21 [==============================] - 0s 1ms/step - loss: 0.2100 - accuracy: 0.9220\n",
            "Epoch 36/100\n",
            "21/21 [==============================] - 0s 1ms/step - loss: 0.2089 - accuracy: 0.9205\n",
            "Epoch 37/100\n",
            "21/21 [==============================] - 0s 1ms/step - loss: 0.2086 - accuracy: 0.9205\n",
            "Epoch 38/100\n",
            "21/21 [==============================] - 0s 1ms/step - loss: 0.2079 - accuracy: 0.9145\n",
            "Epoch 39/100\n",
            "21/21 [==============================] - 0s 1ms/step - loss: 0.2084 - accuracy: 0.9250\n",
            "Epoch 40/100\n",
            "21/21 [==============================] - 0s 2ms/step - loss: 0.2098 - accuracy: 0.9160\n",
            "Epoch 41/100\n",
            "21/21 [==============================] - 0s 1ms/step - loss: 0.2085 - accuracy: 0.9235\n",
            "Epoch 42/100\n",
            "21/21 [==============================] - 0s 1ms/step - loss: 0.2075 - accuracy: 0.9205\n",
            "Epoch 43/100\n",
            "21/21 [==============================] - 0s 2ms/step - loss: 0.2086 - accuracy: 0.9175\n",
            "Epoch 44/100\n",
            "21/21 [==============================] - 0s 2ms/step - loss: 0.2078 - accuracy: 0.9205\n",
            "Epoch 45/100\n",
            "21/21 [==============================] - 0s 1ms/step - loss: 0.2074 - accuracy: 0.9235\n",
            "Epoch 46/100\n",
            "21/21 [==============================] - 0s 1ms/step - loss: 0.2077 - accuracy: 0.9160\n",
            "Epoch 47/100\n",
            "21/21 [==============================] - 0s 1ms/step - loss: 0.2065 - accuracy: 0.9220\n",
            "Epoch 48/100\n",
            "21/21 [==============================] - 0s 1ms/step - loss: 0.2086 - accuracy: 0.9190\n",
            "Epoch 49/100\n",
            "21/21 [==============================] - 0s 1ms/step - loss: 0.2079 - accuracy: 0.9175\n",
            "Epoch 50/100\n",
            "21/21 [==============================] - 0s 1ms/step - loss: 0.2083 - accuracy: 0.9160\n",
            "Epoch 51/100\n",
            "21/21 [==============================] - 0s 1ms/step - loss: 0.2073 - accuracy: 0.9235\n",
            "Epoch 52/100\n",
            "21/21 [==============================] - 0s 1ms/step - loss: 0.2066 - accuracy: 0.9190\n",
            "Epoch 53/100\n",
            "21/21 [==============================] - 0s 2ms/step - loss: 0.2055 - accuracy: 0.9220\n",
            "Epoch 54/100\n",
            "21/21 [==============================] - 0s 1ms/step - loss: 0.2072 - accuracy: 0.9190\n",
            "Epoch 55/100\n",
            "21/21 [==============================] - 0s 1ms/step - loss: 0.2064 - accuracy: 0.9250\n",
            "Epoch 56/100\n",
            "21/21 [==============================] - 0s 1ms/step - loss: 0.2059 - accuracy: 0.9190\n",
            "Epoch 57/100\n",
            "21/21 [==============================] - 0s 1ms/step - loss: 0.2066 - accuracy: 0.9220\n",
            "Epoch 58/100\n",
            "21/21 [==============================] - 0s 2ms/step - loss: 0.2048 - accuracy: 0.9235\n",
            "Epoch 59/100\n",
            "21/21 [==============================] - 0s 2ms/step - loss: 0.2065 - accuracy: 0.9160\n",
            "Epoch 60/100\n",
            "21/21 [==============================] - 0s 1ms/step - loss: 0.2098 - accuracy: 0.9130\n",
            "Epoch 61/100\n",
            "21/21 [==============================] - 0s 1ms/step - loss: 0.2060 - accuracy: 0.9235\n",
            "Epoch 62/100\n",
            "21/21 [==============================] - 0s 2ms/step - loss: 0.2077 - accuracy: 0.9145\n",
            "Epoch 63/100\n",
            "21/21 [==============================] - 0s 1ms/step - loss: 0.2049 - accuracy: 0.9205\n",
            "Epoch 64/100\n",
            "21/21 [==============================] - 0s 1ms/step - loss: 0.2046 - accuracy: 0.9205\n",
            "Epoch 65/100\n",
            "21/21 [==============================] - 0s 2ms/step - loss: 0.2049 - accuracy: 0.9175\n",
            "Epoch 66/100\n",
            "21/21 [==============================] - 0s 1ms/step - loss: 0.2027 - accuracy: 0.9235\n",
            "Epoch 67/100\n",
            "21/21 [==============================] - 0s 1ms/step - loss: 0.2046 - accuracy: 0.9235\n",
            "Epoch 68/100\n",
            "21/21 [==============================] - 0s 1ms/step - loss: 0.2049 - accuracy: 0.9220\n",
            "Epoch 69/100\n",
            "21/21 [==============================] - 0s 1ms/step - loss: 0.2041 - accuracy: 0.9190\n",
            "Epoch 70/100\n",
            "21/21 [==============================] - 0s 1ms/step - loss: 0.2038 - accuracy: 0.9235\n",
            "Epoch 71/100\n",
            "21/21 [==============================] - 0s 1ms/step - loss: 0.2038 - accuracy: 0.9235\n",
            "Epoch 72/100\n",
            "21/21 [==============================] - 0s 2ms/step - loss: 0.2033 - accuracy: 0.9190\n",
            "Epoch 73/100\n",
            "21/21 [==============================] - 0s 2ms/step - loss: 0.2050 - accuracy: 0.9190\n",
            "Epoch 74/100\n",
            "21/21 [==============================] - 0s 1ms/step - loss: 0.2027 - accuracy: 0.9235\n",
            "Epoch 75/100\n",
            "21/21 [==============================] - 0s 1ms/step - loss: 0.2032 - accuracy: 0.9205\n",
            "Epoch 76/100\n",
            "21/21 [==============================] - 0s 1ms/step - loss: 0.2033 - accuracy: 0.9220\n",
            "Epoch 77/100\n",
            "21/21 [==============================] - 0s 1ms/step - loss: 0.2027 - accuracy: 0.9160\n",
            "Epoch 78/100\n",
            "21/21 [==============================] - 0s 1ms/step - loss: 0.2023 - accuracy: 0.9190\n",
            "Epoch 79/100\n",
            "21/21 [==============================] - 0s 1ms/step - loss: 0.2011 - accuracy: 0.9235\n",
            "Epoch 80/100\n",
            "21/21 [==============================] - 0s 1ms/step - loss: 0.2024 - accuracy: 0.9220\n",
            "Epoch 81/100\n",
            "21/21 [==============================] - 0s 1ms/step - loss: 0.2010 - accuracy: 0.9145\n",
            "Epoch 82/100\n",
            "21/21 [==============================] - 0s 2ms/step - loss: 0.2001 - accuracy: 0.9265\n",
            "Epoch 83/100\n",
            "21/21 [==============================] - 0s 1ms/step - loss: 0.2035 - accuracy: 0.9175\n",
            "Epoch 84/100\n",
            "21/21 [==============================] - 0s 2ms/step - loss: 0.2016 - accuracy: 0.9250\n",
            "Epoch 85/100\n",
            "21/21 [==============================] - 0s 2ms/step - loss: 0.2022 - accuracy: 0.9190\n",
            "Epoch 86/100\n",
            "21/21 [==============================] - 0s 1ms/step - loss: 0.2002 - accuracy: 0.9205\n",
            "Epoch 87/100\n",
            "21/21 [==============================] - 0s 1ms/step - loss: 0.2017 - accuracy: 0.9220\n",
            "Epoch 88/100\n",
            "21/21 [==============================] - 0s 1ms/step - loss: 0.2022 - accuracy: 0.9205\n",
            "Epoch 89/100\n",
            "21/21 [==============================] - 0s 1ms/step - loss: 0.1993 - accuracy: 0.9190\n",
            "Epoch 90/100\n",
            "21/21 [==============================] - 0s 1ms/step - loss: 0.2005 - accuracy: 0.9280\n",
            "Epoch 91/100\n",
            "21/21 [==============================] - 0s 1ms/step - loss: 0.2008 - accuracy: 0.9175\n",
            "Epoch 92/100\n",
            "21/21 [==============================] - 0s 1ms/step - loss: 0.2019 - accuracy: 0.9175\n",
            "Epoch 93/100\n",
            "21/21 [==============================] - 0s 1ms/step - loss: 0.2009 - accuracy: 0.9190\n",
            "Epoch 94/100\n",
            "21/21 [==============================] - 0s 1ms/step - loss: 0.1993 - accuracy: 0.9220\n",
            "Epoch 95/100\n",
            "21/21 [==============================] - 0s 2ms/step - loss: 0.2002 - accuracy: 0.9205\n",
            "Epoch 96/100\n",
            "21/21 [==============================] - 0s 1ms/step - loss: 0.2007 - accuracy: 0.9190\n",
            "Epoch 97/100\n",
            "21/21 [==============================] - 0s 1ms/step - loss: 0.1992 - accuracy: 0.9235\n",
            "Epoch 98/100\n",
            "21/21 [==============================] - 0s 1ms/step - loss: 0.1996 - accuracy: 0.9190\n",
            "Epoch 99/100\n",
            "21/21 [==============================] - 0s 1ms/step - loss: 0.2006 - accuracy: 0.9160\n",
            "Epoch 100/100\n",
            "21/21 [==============================] - 0s 1ms/step - loss: 0.2004 - accuracy: 0.9175\n"
          ],
          "name": "stdout"
        },
        {
          "output_type": "execute_result",
          "data": {
            "text/plain": [
              "<tensorflow.python.keras.callbacks.History at 0x7f2e987c9be0>"
            ]
          },
          "metadata": {
            "tags": []
          },
          "execution_count": 157
        }
      ]
    },
    {
      "cell_type": "code",
      "metadata": {
        "scrolled": false,
        "id": "m8b3BuOxz-iE",
        "colab": {
          "base_uri": "https://localhost:8080/"
        },
        "outputId": "27ba25ef-330e-4196-d395-d6721a60bfb1"
      },
      "source": [
        "  modele.evaluate(xtest,ytest)\n",
        "  yp=modele.predict_classes(xtest)\n"
      ],
      "execution_count": null,
      "outputs": [
        {
          "output_type": "stream",
          "text": [
            "21/21 [==============================] - 0s 1ms/step - loss: 0.1940 - accuracy: 0.9265\n"
          ],
          "name": "stdout"
        },
        {
          "output_type": "stream",
          "text": [
            "/usr/local/lib/python3.6/dist-packages/tensorflow/python/keras/engine/sequential.py:450: UserWarning: `model.predict_classes()` is deprecated and will be removed after 2021-01-01. Please use instead:* `np.argmax(model.predict(x), axis=-1)`,   if your model does multi-class classification   (e.g. if it uses a `softmax` last-layer activation).* `(model.predict(x) > 0.5).astype(\"int32\")`,   if your model does binary classification   (e.g. if it uses a `sigmoid` last-layer activation).\n",
            "  warnings.warn('`model.predict_classes()` is deprecated and '\n"
          ],
          "name": "stderr"
        }
      ]
    },
    {
      "cell_type": "code",
      "metadata": {
        "scrolled": false,
        "id": "IddpSrbNz-iE"
      },
      "source": [
        "tab=[]\r\n",
        "for i in yp:\r\n",
        "  for j in i:\r\n",
        "     \r\n",
        "    tab.append(i)\r\n"
      ],
      "execution_count": null,
      "outputs": []
    },
    {
      "cell_type": "code",
      "metadata": {
        "scrolled": true,
        "id": "h09XBSFzz-iE"
      },
      "source": [
        " ypredict=pd.Series(tab)"
      ],
      "execution_count": null,
      "outputs": []
    },
    {
      "cell_type": "code",
      "metadata": {
        "scrolled": true,
        "id": "sLxC3Yo8z-iF"
      },
      "source": [
        " result=pd.DataFrame({\"y\":ytest,\"ypredit\":ypredict})"
      ],
      "execution_count": null,
      "outputs": []
    },
    {
      "cell_type": "code",
      "metadata": {
        "id": "Av1pDFidz-iF",
        "colab": {
          "base_uri": "https://localhost:8080/"
        },
        "outputId": "980d2c54-bf44-45aa-98a0-6be4592289a7"
      },
      "source": [
        " print(result.head(60))\n"
      ],
      "execution_count": null,
      "outputs": [
        {
          "output_type": "stream",
          "text": [
            "        y ypredit\n",
            "0   False     [0]\n",
            "1    True     [1]\n",
            "2    True     [1]\n",
            "3   False     [0]\n",
            "4   False     [0]\n",
            "5   False     [0]\n",
            "6   False     [0]\n",
            "7    True     [1]\n",
            "8   False     [0]\n",
            "9   False     [0]\n",
            "10  False     [0]\n",
            "11  False     [0]\n",
            "12  False     [0]\n",
            "13  False     [0]\n",
            "14   True     [0]\n",
            "15  False     [0]\n",
            "16   True     [1]\n",
            "17  False     [0]\n",
            "18  False     [0]\n",
            "19  False     [0]\n",
            "20  False     [0]\n",
            "21  False     [0]\n",
            "22  False     [0]\n",
            "23  False     [0]\n",
            "24  False     [0]\n",
            "25  False     [0]\n",
            "26  False     [0]\n",
            "27  False     [0]\n",
            "28  False     [0]\n",
            "29  False     [0]\n",
            "30  False     [0]\n",
            "31  False     [0]\n",
            "32  False     [0]\n",
            "33  False     [1]\n",
            "34  False     [0]\n",
            "35   True     [1]\n",
            "36  False     [0]\n",
            "37  False     [0]\n",
            "38  False     [0]\n",
            "39  False     [0]\n",
            "40  False     [0]\n",
            "41   True     [1]\n",
            "42  False     [0]\n",
            "43  False     [1]\n",
            "44  False     [0]\n",
            "45  False     [0]\n",
            "46  False     [1]\n",
            "47   True     [0]\n",
            "48  False     [0]\n",
            "49  False     [0]\n",
            "50  False     [0]\n",
            "51  False     [1]\n",
            "52   True     [0]\n",
            "53  False     [0]\n",
            "54  False     [0]\n",
            "55  False     [0]\n",
            "56   True     [1]\n",
            "57  False     [0]\n",
            "58   True     [1]\n",
            "59  False     [0]\n"
          ],
          "name": "stdout"
        }
      ]
    },
    {
      "cell_type": "code",
      "metadata": {
        "id": "SGkpcny3z-iG"
      },
      "source": [
        ""
      ],
      "execution_count": null,
      "outputs": []
    },
    {
      "cell_type": "code",
      "metadata": {
        "id": "gliAnoSez-iG"
      },
      "source": [
        ""
      ],
      "execution_count": null,
      "outputs": []
    },
    {
      "cell_type": "code",
      "metadata": {
        "id": "j8C2C6xTz-iG"
      },
      "source": [
        " "
      ],
      "execution_count": null,
      "outputs": []
    },
    {
      "cell_type": "code",
      "metadata": {
        "id": "uQk4wp1vz-iH"
      },
      "source": [
        " "
      ],
      "execution_count": null,
      "outputs": []
    },
    {
      "cell_type": "code",
      "metadata": {
        "id": "kcxeFtICz-iH"
      },
      "source": [
        " "
      ],
      "execution_count": null,
      "outputs": []
    },
    {
      "cell_type": "code",
      "metadata": {
        "id": "fij-4Yyyz-iH"
      },
      "source": [
        ""
      ],
      "execution_count": null,
      "outputs": []
    }
  ]
}